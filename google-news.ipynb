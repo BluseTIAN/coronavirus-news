{
 "cells": [
  {
   "cell_type": "code",
   "execution_count": 1,
   "metadata": {},
   "outputs": [],
   "source": [
    "from newscatcher import Newscatcher\n",
    "import pandas as pd\n",
    "from datetime import datetime\n",
    "from google_news import fetch_news"
   ]
  },
  {
   "cell_type": "code",
   "execution_count": 2,
   "metadata": {},
   "outputs": [],
   "source": [
    "all_headlines_csv = 'data/google-news-headlines.csv'\n",
    "all_df_headlines = pd.read_csv(all_headlines_csv)"
   ]
  },
  {
   "cell_type": "code",
   "execution_count": 3,
   "metadata": {},
   "outputs": [
    {
     "data": {
      "text/plain": [
       "'2020-03-02 01:06'"
      ]
     },
     "execution_count": 3,
     "metadata": {},
     "output_type": "execute_result"
    }
   ],
   "source": [
    "now = datetime.utcnow().strftime('%Y-%m-%d %H:%M')\n",
    "now"
   ]
  },
  {
   "cell_type": "code",
   "execution_count": 4,
   "metadata": {},
   "outputs": [],
   "source": [
    "# get the current headlines\n",
    "ns = Newscatcher('news.google.com')\n",
    "df_latest = pd.DataFrame({'datetime': now, 'headline': ns.headlines})\n"
   ]
  },
  {
   "cell_type": "code",
   "execution_count": 5,
   "metadata": {},
   "outputs": [],
   "source": [
    "country_tlds = pd.read_csv('https://raw.githubusercontent.com/alext234/ccTLD/master/data/cc_tld.csv')"
   ]
  },
  {
   "cell_type": "code",
   "execution_count": 6,
   "metadata": {},
   "outputs": [
    {
     "name": "stdout",
     "output_type": "stream",
     "text": [
      "fetched https://news.google.com.af\n",
      "fetched https://news.google.com.ag\n",
      "fetched https://news.google.com.ai\n",
      "fetched https://news.google.com.ar\n",
      "fetched https://news.google.com.au\n",
      "fetched https://news.google.com.bd\n",
      "fetched https://news.google.com.bh\n",
      "fetched https://news.google.com.bn\n",
      "fetched https://news.google.com.bo\n",
      "fetched https://news.google.com.br\n",
      "fetched https://news.google.com.by\n",
      "fetched https://news.google.com.bz\n",
      "fetched https://news.google.com.cn\n",
      "fetched https://news.google.com.co\n",
      "fetched https://news.google.com.cu\n",
      "fetched https://news.google.com.cy\n",
      "fetched https://news.google.com.do\n",
      "fetched https://news.google.com.ec\n",
      "fetched https://news.google.com.eg\n",
      "fetched https://news.google.com.et\n",
      "fetched https://news.google.com.fj\n",
      "fetched https://news.google.com.ge\n",
      "fetched https://news.google.com.gh\n",
      "fetched https://news.google.com.gi\n",
      "fetched https://news.google.com.gr\n",
      "fetched https://news.google.com.gt\n",
      "fetched https://news.google.com.hk\n",
      "fetched https://news.google.com.iq\n",
      "fetched https://news.google.com.jm\n",
      "fetched https://news.google.com.jo\n",
      "fetched https://news.google.com.kh\n",
      "fetched https://news.google.com.kw\n",
      "fetched https://news.google.com.kz\n",
      "fetched https://news.google.com.lb\n",
      "fetched https://news.google.com.ly\n",
      "fetched https://news.google.com.mm\n",
      "fetched https://news.google.com.mt\n",
      "fetched https://news.google.com.mx\n",
      "fetched https://news.google.com.my\n",
      "fetched https://news.google.com.na\n",
      "fetched https://news.google.com.nf\n",
      "fetched https://news.google.com.ng\n",
      "fetched https://news.google.com.ni\n",
      "fetched https://news.google.com.np\n",
      "fetched https://news.google.com.nr\n",
      "fetched https://news.google.com.om\n",
      "fetched https://news.google.com.pa\n",
      "fetched https://news.google.com.pe\n",
      "fetched https://news.google.com.pg\n",
      "fetched https://news.google.com.ph\n",
      "fetched https://news.google.com.pk\n",
      "fetched https://news.google.com.pl\n",
      "fetched https://news.google.com.pr\n",
      "fetched https://news.google.com.py\n",
      "fetched https://news.google.com.qa\n",
      "fetched https://news.google.com.ru\n",
      "fetched https://news.google.com.sa\n",
      "fetched https://news.google.com.sb\n",
      "fetched https://news.google.com.sg\n",
      "fetched https://news.google.com.sl\n",
      "fetched https://news.google.com.sv\n",
      "fetched https://news.google.com.tj\n",
      "fetched https://news.google.com.tn\n",
      "fetched https://news.google.com.tr\n",
      "fetched https://news.google.com.tw\n",
      "fetched https://news.google.com.ua\n",
      "fetched https://news.google.com.uy\n",
      "fetched https://news.google.com.vc\n",
      "fetched https://news.google.com.ve\n",
      "fetched https://news.google.com.vn\n"
     ]
    }
   ],
   "source": [
    "titles = set()\n",
    "for _, tld in country_tlds.iterrows():\n",
    "    gnews_url = 'https://news.google.com'+tld[0]\n",
    "    try:\n",
    "        titles.update(fetch_news(gnews_url))\n",
    "        print(f'fetched {gnews_url}')\n",
    "    except Exception as e:\n",
    "        # probably some country TLD do not have a google news domain\n",
    "        pass\n"
   ]
  },
  {
   "cell_type": "code",
   "execution_count": 7,
   "metadata": {},
   "outputs": [],
   "source": [
    "assert len(titles)>0"
   ]
  },
  {
   "cell_type": "code",
   "execution_count": 8,
   "metadata": {},
   "outputs": [],
   "source": [
    "df_latest = pd.DataFrame({'datetime':now, 'headline': list(titles)})"
   ]
  },
  {
   "cell_type": "code",
   "execution_count": 9,
   "metadata": {},
   "outputs": [
    {
     "data": {
      "text/html": [
       "<div>\n",
       "<style scoped>\n",
       "    .dataframe tbody tr th:only-of-type {\n",
       "        vertical-align: middle;\n",
       "    }\n",
       "\n",
       "    .dataframe tbody tr th {\n",
       "        vertical-align: top;\n",
       "    }\n",
       "\n",
       "    .dataframe thead th {\n",
       "        text-align: right;\n",
       "    }\n",
       "</style>\n",
       "<table border=\"1\" class=\"dataframe\">\n",
       "  <thead>\n",
       "    <tr style=\"text-align: right;\">\n",
       "      <th></th>\n",
       "      <th>datetime</th>\n",
       "      <th>headline</th>\n",
       "    </tr>\n",
       "  </thead>\n",
       "  <tbody>\n",
       "    <tr>\n",
       "      <th>0</th>\n",
       "      <td>2020-03-02 01:06</td>\n",
       "      <td>Group Urges Buhari To Sack Service Chiefs Over...</td>\n",
       "    </tr>\n",
       "    <tr>\n",
       "      <th>1</th>\n",
       "      <td>2020-03-02 01:06</td>\n",
       "      <td>吴宇恒《王牌对王牌》助阵王牌家族演艺新人备受期待 - 中国娱乐网</td>\n",
       "    </tr>\n",
       "    <tr>\n",
       "      <th>2</th>\n",
       "      <td>2020-03-02 01:06</td>\n",
       "      <td>All The PC Games You've Forgotten From Your Ch...</td>\n",
       "    </tr>\n",
       "    <tr>\n",
       "      <th>3</th>\n",
       "      <td>2020-03-02 01:06</td>\n",
       "      <td>ভারতের নাগরিকত্ব সনদ নেই খোদ মোদির! - এনটিভি</td>\n",
       "    </tr>\n",
       "    <tr>\n",
       "      <th>4</th>\n",
       "      <td>2020-03-02 01:06</td>\n",
       "      <td>Arab Saudi Larang Sementara Umrah, Syahrul Gun...</td>\n",
       "    </tr>\n",
       "    <tr>\n",
       "      <th>5</th>\n",
       "      <td>2020-03-02 01:06</td>\n",
       "      <td>هل انتصرت حركة طالبان في أفغانستان؟ - BBC Arabic</td>\n",
       "    </tr>\n",
       "    <tr>\n",
       "      <th>6</th>\n",
       "      <td>2020-03-02 01:06</td>\n",
       "      <td>Student astronomer finds 17 new planets, and o...</td>\n",
       "    </tr>\n",
       "    <tr>\n",
       "      <th>7</th>\n",
       "      <td>2020-03-02 01:06</td>\n",
       "      <td>Moreno dá assistência, Fábio pega pênalti e Cr...</td>\n",
       "    </tr>\n",
       "    <tr>\n",
       "      <th>8</th>\n",
       "      <td>2020-03-02 01:06</td>\n",
       "      <td>Nasa anuncia \"a maior explosão já vista no Uni...</td>\n",
       "    </tr>\n",
       "    <tr>\n",
       "      <th>9</th>\n",
       "      <td>2020-03-02 01:06</td>\n",
       "      <td>Astrónomos registraron la mayor explosión de l...</td>\n",
       "    </tr>\n",
       "  </tbody>\n",
       "</table>\n",
       "</div>"
      ],
      "text/plain": [
       "           datetime                                           headline\n",
       "0  2020-03-02 01:06  Group Urges Buhari To Sack Service Chiefs Over...\n",
       "1  2020-03-02 01:06                   吴宇恒《王牌对王牌》助阵王牌家族演艺新人备受期待 - 中国娱乐网\n",
       "2  2020-03-02 01:06  All The PC Games You've Forgotten From Your Ch...\n",
       "3  2020-03-02 01:06       ভারতের নাগরিকত্ব সনদ নেই খোদ মোদির! - এনটিভি\n",
       "4  2020-03-02 01:06  Arab Saudi Larang Sementara Umrah, Syahrul Gun...\n",
       "5  2020-03-02 01:06   هل انتصرت حركة طالبان في أفغانستان؟ - BBC Arabic\n",
       "6  2020-03-02 01:06  Student astronomer finds 17 new planets, and o...\n",
       "7  2020-03-02 01:06  Moreno dá assistência, Fábio pega pênalti e Cr...\n",
       "8  2020-03-02 01:06  Nasa anuncia \"a maior explosão já vista no Uni...\n",
       "9  2020-03-02 01:06  Astrónomos registraron la mayor explosión de l..."
      ]
     },
     "execution_count": 9,
     "metadata": {},
     "output_type": "execute_result"
    }
   ],
   "source": [
    "df_latest.head(10)"
   ]
  },
  {
   "cell_type": "code",
   "execution_count": 10,
   "metadata": {},
   "outputs": [],
   "source": [
    "# merge with the old one\n",
    "all_df_headlines = all_df_headlines.append(df_latest, sort=True)\n"
   ]
  },
  {
   "cell_type": "code",
   "execution_count": 11,
   "metadata": {},
   "outputs": [],
   "source": [
    "all_df_headlines.drop_duplicates(['headline'], inplace=True)"
   ]
  },
  {
   "cell_type": "code",
   "execution_count": 12,
   "metadata": {},
   "outputs": [],
   "source": [
    "# save all headlines  to file\n",
    "all_df_headlines.to_csv(all_headlines_csv, index=False)"
   ]
  },
  {
   "cell_type": "code",
   "execution_count": 13,
   "metadata": {},
   "outputs": [],
   "source": [
    "def is_reference_corona(s):\n",
    "    return (\n",
    "        ('coronavirus' in s)\n",
    "        or ('covid-19' in s)\n",
    "        or ('corona' in s)\n",
    "        or ('ncov' in s)\n",
    "    )\n",
    "        \n",
    "    \n",
    "# is_virus is 1 if there is reference to coronavirus\n",
    "    \n",
    "all_df_headlines['is_virus']= (\n",
    "    all_df_headlines['headline']\n",
    "    .apply(lambda v: 1 \n",
    "           if is_reference_corona(v.lower()) else 0)\n",
    ")"
   ]
  },
  {
   "cell_type": "code",
   "execution_count": 14,
   "metadata": {},
   "outputs": [],
   "source": [
    "# cumu sum of number of references to virus\n",
    "all_df_headlines['total_virus'] = all_df_headlines['is_virus'].cumsum()"
   ]
  },
  {
   "cell_type": "code",
   "execution_count": 15,
   "metadata": {},
   "outputs": [
    {
     "data": {
      "text/html": [
       "<div>\n",
       "<style scoped>\n",
       "    .dataframe tbody tr th:only-of-type {\n",
       "        vertical-align: middle;\n",
       "    }\n",
       "\n",
       "    .dataframe tbody tr th {\n",
       "        vertical-align: top;\n",
       "    }\n",
       "\n",
       "    .dataframe thead th {\n",
       "        text-align: right;\n",
       "    }\n",
       "</style>\n",
       "<table border=\"1\" class=\"dataframe\">\n",
       "  <thead>\n",
       "    <tr style=\"text-align: right;\">\n",
       "      <th></th>\n",
       "      <th>headline</th>\n",
       "    </tr>\n",
       "  </thead>\n",
       "  <tbody>\n",
       "    <tr>\n",
       "      <th>979</th>\n",
       "      <td>[Covid-19: Who is most at possibility of dying...</td>\n",
       "    </tr>\n",
       "    <tr>\n",
       "      <th>1000</th>\n",
       "      <td>Video / Compañía china presenta un automóvil '...</td>\n",
       "    </tr>\n",
       "    <tr>\n",
       "      <th>1008</th>\n",
       "      <td>Reino Unido redoblará esfuerzos para combatir ...</td>\n",
       "    </tr>\n",
       "    <tr>\n",
       "      <th>1019</th>\n",
       "      <td>Harga Minyak Anjlok 14 Persen Akibat Virus Cor...</td>\n",
       "    </tr>\n",
       "    <tr>\n",
       "      <th>1024</th>\n",
       "      <td>Konferensi Pengembang Game GDC 2020 Resmi Bata...</td>\n",
       "    </tr>\n",
       "  </tbody>\n",
       "</table>\n",
       "</div>"
      ],
      "text/plain": [
       "                                               headline\n",
       "979   [Covid-19: Who is most at possibility of dying...\n",
       "1000  Video / Compañía china presenta un automóvil '...\n",
       "1008  Reino Unido redoblará esfuerzos para combatir ...\n",
       "1019  Harga Minyak Anjlok 14 Persen Akibat Virus Cor...\n",
       "1024  Konferensi Pengembang Game GDC 2020 Resmi Bata..."
      ]
     },
     "execution_count": 15,
     "metadata": {},
     "output_type": "execute_result"
    }
   ],
   "source": [
    "df_latest_samples = all_df_headlines[all_df_headlines['is_virus']==1].tail(5)\n",
    "df_latest_samples[['headline']]"
   ]
  },
  {
   "cell_type": "code",
   "execution_count": 16,
   "metadata": {},
   "outputs": [],
   "source": [
    "# plot chart number of headline mentioning coronavirus\n",
    "import seaborn as sns\n",
    "import matplotlib.pyplot as plt\n",
    "from pandas.plotting import register_matplotlib_converters\n",
    "register_matplotlib_converters()\n",
    "\n",
    "png_file = 'images/google-news-headlines.png'\n",
    "# convert to pd.datetime\n",
    "all_df_headlines['datetime_idx'] = pd.to_datetime(all_df_headlines['datetime'], format=\"%Y-%m-%d %H:%M\")\n",
    "all_df_headlines.set_index('datetime_idx', inplace=True)\n"
   ]
  },
  {
   "cell_type": "code",
   "execution_count": 17,
   "metadata": {},
   "outputs": [
    {
     "data": {
      "text/html": [
       "<div>\n",
       "<style scoped>\n",
       "    .dataframe tbody tr th:only-of-type {\n",
       "        vertical-align: middle;\n",
       "    }\n",
       "\n",
       "    .dataframe tbody tr th {\n",
       "        vertical-align: top;\n",
       "    }\n",
       "\n",
       "    .dataframe thead th {\n",
       "        text-align: right;\n",
       "    }\n",
       "</style>\n",
       "<table border=\"1\" class=\"dataframe\">\n",
       "  <thead>\n",
       "    <tr style=\"text-align: right;\">\n",
       "      <th></th>\n",
       "      <th>datetime</th>\n",
       "      <th>headline</th>\n",
       "      <th>is_virus</th>\n",
       "      <th>total_virus</th>\n",
       "    </tr>\n",
       "    <tr>\n",
       "      <th>datetime_idx</th>\n",
       "      <th></th>\n",
       "      <th></th>\n",
       "      <th></th>\n",
       "      <th></th>\n",
       "    </tr>\n",
       "  </thead>\n",
       "  <tbody>\n",
       "    <tr>\n",
       "      <th>2020-02-27 19:51:00</th>\n",
       "      <td>2020-02-27 19:51</td>\n",
       "      <td>The 31 wildest lines from Donald Trump's self-...</td>\n",
       "      <td>1</td>\n",
       "      <td>1</td>\n",
       "    </tr>\n",
       "    <tr>\n",
       "      <th>2020-02-27 21:14:00</th>\n",
       "      <td>2020-02-27 21:14</td>\n",
       "      <td>Coronavirus: Outbreak at 'decisive point' as W...</td>\n",
       "      <td>1</td>\n",
       "      <td>2</td>\n",
       "    </tr>\n",
       "    <tr>\n",
       "      <th>2020-02-27 21:14:00</th>\n",
       "      <td>2020-02-27 21:14</td>\n",
       "      <td>Shooter at Milwaukee Molson Coors had a long-r...</td>\n",
       "      <td>0</td>\n",
       "      <td>2</td>\n",
       "    </tr>\n",
       "    <tr>\n",
       "      <th>2020-02-27 21:14:00</th>\n",
       "      <td>2020-02-27 21:14</td>\n",
       "      <td>Democratic Leaders Willing to Risk Party Damag...</td>\n",
       "      <td>0</td>\n",
       "      <td>2</td>\n",
       "    </tr>\n",
       "    <tr>\n",
       "      <th>2020-02-27 21:14:00</th>\n",
       "      <td>2020-02-27 21:14</td>\n",
       "      <td>Catherine Pugh, Former Baltimore Mayor, Senten...</td>\n",
       "      <td>0</td>\n",
       "      <td>2</td>\n",
       "    </tr>\n",
       "    <tr>\n",
       "      <th>...</th>\n",
       "      <td>...</td>\n",
       "      <td>...</td>\n",
       "      <td>...</td>\n",
       "      <td>...</td>\n",
       "    </tr>\n",
       "    <tr>\n",
       "      <th>2020-03-02 01:06:00</th>\n",
       "      <td>2020-03-02 01:06</td>\n",
       "      <td>Amazon's Echo Studio is on sale for the first ...</td>\n",
       "      <td>0</td>\n",
       "      <td>2241</td>\n",
       "    </tr>\n",
       "    <tr>\n",
       "      <th>2020-03-02 01:06:00</th>\n",
       "      <td>2020-03-02 01:06</td>\n",
       "      <td>Gospel singer sues Rev Obofour for illegally u...</td>\n",
       "      <td>0</td>\n",
       "      <td>2241</td>\n",
       "    </tr>\n",
       "    <tr>\n",
       "      <th>2020-03-02 01:06:00</th>\n",
       "      <td>2020-03-02 01:06</td>\n",
       "      <td>El Mustang Mach 1 de John Wick ya se puede com...</td>\n",
       "      <td>0</td>\n",
       "      <td>2241</td>\n",
       "    </tr>\n",
       "    <tr>\n",
       "      <th>2020-03-02 01:06:00</th>\n",
       "      <td>2020-03-02 01:06</td>\n",
       "      <td>中超16队总转出球员多于转入 这个冬窗中超不打金元牌--体育 - 人民网</td>\n",
       "      <td>0</td>\n",
       "      <td>2241</td>\n",
       "    </tr>\n",
       "    <tr>\n",
       "      <th>2020-03-02 01:06:00</th>\n",
       "      <td>2020-03-02 01:06</td>\n",
       "      <td>Phát hiện loài sinh vật độc đáo sống không cần...</td>\n",
       "      <td>0</td>\n",
       "      <td>2241</td>\n",
       "    </tr>\n",
       "  </tbody>\n",
       "</table>\n",
       "<p>12619 rows × 4 columns</p>\n",
       "</div>"
      ],
      "text/plain": [
       "                             datetime  \\\n",
       "datetime_idx                            \n",
       "2020-02-27 19:51:00  2020-02-27 19:51   \n",
       "2020-02-27 21:14:00  2020-02-27 21:14   \n",
       "2020-02-27 21:14:00  2020-02-27 21:14   \n",
       "2020-02-27 21:14:00  2020-02-27 21:14   \n",
       "2020-02-27 21:14:00  2020-02-27 21:14   \n",
       "...                               ...   \n",
       "2020-03-02 01:06:00  2020-03-02 01:06   \n",
       "2020-03-02 01:06:00  2020-03-02 01:06   \n",
       "2020-03-02 01:06:00  2020-03-02 01:06   \n",
       "2020-03-02 01:06:00  2020-03-02 01:06   \n",
       "2020-03-02 01:06:00  2020-03-02 01:06   \n",
       "\n",
       "                                                              headline  \\\n",
       "datetime_idx                                                             \n",
       "2020-02-27 19:51:00  The 31 wildest lines from Donald Trump's self-...   \n",
       "2020-02-27 21:14:00  Coronavirus: Outbreak at 'decisive point' as W...   \n",
       "2020-02-27 21:14:00  Shooter at Milwaukee Molson Coors had a long-r...   \n",
       "2020-02-27 21:14:00  Democratic Leaders Willing to Risk Party Damag...   \n",
       "2020-02-27 21:14:00  Catherine Pugh, Former Baltimore Mayor, Senten...   \n",
       "...                                                                ...   \n",
       "2020-03-02 01:06:00  Amazon's Echo Studio is on sale for the first ...   \n",
       "2020-03-02 01:06:00  Gospel singer sues Rev Obofour for illegally u...   \n",
       "2020-03-02 01:06:00  El Mustang Mach 1 de John Wick ya se puede com...   \n",
       "2020-03-02 01:06:00               中超16队总转出球员多于转入 这个冬窗中超不打金元牌--体育 - 人民网   \n",
       "2020-03-02 01:06:00  Phát hiện loài sinh vật độc đáo sống không cần...   \n",
       "\n",
       "                     is_virus  total_virus  \n",
       "datetime_idx                                \n",
       "2020-02-27 19:51:00         1            1  \n",
       "2020-02-27 21:14:00         1            2  \n",
       "2020-02-27 21:14:00         0            2  \n",
       "2020-02-27 21:14:00         0            2  \n",
       "2020-02-27 21:14:00         0            2  \n",
       "...                       ...          ...  \n",
       "2020-03-02 01:06:00         0         2241  \n",
       "2020-03-02 01:06:00         0         2241  \n",
       "2020-03-02 01:06:00         0         2241  \n",
       "2020-03-02 01:06:00         0         2241  \n",
       "2020-03-02 01:06:00         0         2241  \n",
       "\n",
       "[12619 rows x 4 columns]"
      ]
     },
     "execution_count": 17,
     "metadata": {},
     "output_type": "execute_result"
    }
   ],
   "source": [
    "all_df_headlines"
   ]
  },
  {
   "cell_type": "code",
   "execution_count": 18,
   "metadata": {},
   "outputs": [
    {
     "data": {
      "image/png": "[encoded data removed]",
      "text/plain": [
       "<Figure size 1008x576 with 1 Axes>"
      ]
     },
     "metadata": {},
     "output_type": "display_data"
    }
   ],
   "source": [
    "sns.set(rc={'figure.figsize':(14,8)})\n",
    "\n",
    "fig, axs = plt.subplots(nrows=1)\n",
    "\n",
    "sns.lineplot(x=all_df_headlines.index, y = 'total_virus', data=all_df_headlines, ax= axs, estimator=None, color='blue')\n",
    "\n",
    "axs.set_xlabel('')\n",
    "axs.set_ylabel('')\n",
    "axs.tick_params(axis='x', labelrotation=30)"
   ]
  },
  {
   "cell_type": "code",
   "execution_count": 19,
   "metadata": {},
   "outputs": [],
   "source": [
    "fig.savefig(png_file)\n"
   ]
  },
  {
   "cell_type": "code",
   "execution_count": null,
   "metadata": {},
   "outputs": [],
   "source": []
  }
 ],
 "metadata": {
  "kernelspec": {
   "display_name": "Python 3",
   "language": "python",
   "name": "python3"
  },
  "language_info": {
   "codemirror_mode": {
    "name": "ipython",
    "version": 3
   },
   "file_extension": ".py",
   "mimetype": "text/x-python",
   "name": "python",
   "nbconvert_exporter": "python",
   "pygments_lexer": "ipython3",
   "version": "3.7.6"
  }
 },
 "nbformat": 4,
 "nbformat_minor": 4
}
