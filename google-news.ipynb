{
 "cells": [
  {
   "cell_type": "code",
   "execution_count": 1,
   "metadata": {},
   "outputs": [],
   "source": [
    "from newscatcher import Newscatcher\n",
    "import pandas as pd\n",
    "from datetime import datetime\n",
    "from google_news import fetch_news"
   ]
  },
  {
   "cell_type": "code",
   "execution_count": 2,
   "metadata": {},
   "outputs": [],
   "source": [
    "all_headlines_csv = 'data/google-news-headlines.csv.gz'\n",
    "all_df_headlines = pd.read_csv(all_headlines_csv, compression='gzip')"
   ]
  },
  {
   "cell_type": "code",
   "execution_count": 3,
   "metadata": {},
   "outputs": [
    {
     "data": {
      "text/plain": [
       "'2020-03-28 00:08'"
      ]
     },
     "execution_count": 3,
     "metadata": {},
     "output_type": "execute_result"
    }
   ],
   "source": [
    "now = datetime.utcnow().strftime('%Y-%m-%d %H:%M')\n",
    "now"
   ]
  },
  {
   "cell_type": "code",
   "execution_count": 4,
   "metadata": {},
   "outputs": [],
   "source": [
    "# get the current headlines\n",
    "ns = Newscatcher('news.google.com')\n",
    "df_latest = pd.DataFrame({'datetime': now, 'headline': ns.headlines})\n"
   ]
  },
  {
   "cell_type": "code",
   "execution_count": 5,
   "metadata": {},
   "outputs": [],
   "source": [
    "country_tlds = pd.read_csv('https://raw.githubusercontent.com/alext234/ccTLD/master/data/cc_tld.csv')"
   ]
  },
  {
   "cell_type": "code",
   "execution_count": 6,
   "metadata": {},
   "outputs": [
    {
     "name": "stdout",
     "output_type": "stream",
     "text": [
      "fetched https://news.google.com.af\n",
      "fetched https://news.google.com.ag\n",
      "fetched https://news.google.com.ai\n",
      "fetched https://news.google.com.ar\n",
      "fetched https://news.google.com.au\n",
      "fetched https://news.google.com.bd\n",
      "fetched https://news.google.com.bh\n",
      "fetched https://news.google.com.bn\n",
      "fetched https://news.google.com.bo\n",
      "fetched https://news.google.com.br\n",
      "fetched https://news.google.com.by\n",
      "fetched https://news.google.com.bz\n",
      "fetched https://news.google.com.cn\n",
      "fetched https://news.google.com.co\n",
      "fetched https://news.google.com.cu\n",
      "fetched https://news.google.com.cy\n",
      "fetched https://news.google.com.do\n",
      "fetched https://news.google.com.ec\n",
      "fetched https://news.google.com.eg\n",
      "fetched https://news.google.com.et\n",
      "fetched https://news.google.com.fj\n",
      "fetched https://news.google.com.ge\n",
      "fetched https://news.google.com.gh\n",
      "fetched https://news.google.com.gi\n",
      "fetched https://news.google.com.gr\n",
      "fetched https://news.google.com.gt\n",
      "fetched https://news.google.com.hk\n",
      "fetched https://news.google.com.iq\n",
      "fetched https://news.google.com.jm\n",
      "fetched https://news.google.com.jo\n",
      "fetched https://news.google.com.kh\n",
      "fetched https://news.google.com.kw\n",
      "fetched https://news.google.com.kz\n",
      "fetched https://news.google.com.lb\n",
      "fetched https://news.google.com.ly\n",
      "fetched https://news.google.com.mm\n",
      "fetched https://news.google.com.mt\n",
      "fetched https://news.google.com.mx\n",
      "fetched https://news.google.com.my\n",
      "fetched https://news.google.com.na\n",
      "fetched https://news.google.com.nf\n",
      "fetched https://news.google.com.ng\n",
      "fetched https://news.google.com.ni\n",
      "fetched https://news.google.com.np\n",
      "fetched https://news.google.com.nr\n",
      "fetched https://news.google.com.om\n",
      "fetched https://news.google.com.pa\n",
      "fetched https://news.google.com.pe\n",
      "fetched https://news.google.com.pg\n",
      "fetched https://news.google.com.ph\n",
      "fetched https://news.google.com.pk\n",
      "fetched https://news.google.com.pl\n",
      "fetched https://news.google.com.pr\n",
      "fetched https://news.google.com.py\n",
      "fetched https://news.google.com.qa\n",
      "fetched https://news.google.com.ru\n",
      "fetched https://news.google.com.sa\n",
      "fetched https://news.google.com.sb\n",
      "fetched https://news.google.com.sg\n",
      "fetched https://news.google.com.sl\n",
      "fetched https://news.google.com.sv\n",
      "fetched https://news.google.com.tj\n",
      "fetched https://news.google.com.tn\n",
      "fetched https://news.google.com.tr\n",
      "fetched https://news.google.com.ua\n",
      "fetched https://news.google.com.uy\n",
      "fetched https://news.google.com.vc\n",
      "fetched https://news.google.com.ve\n",
      "fetched https://news.google.com.vn\n"
     ]
    }
   ],
   "source": [
    "titles = set()\n",
    "for _, tld in country_tlds.iterrows():\n",
    "    gnews_url = 'https://news.google.com'+tld[0]\n",
    "    try:\n",
    "        titles.update(fetch_news(gnews_url))\n",
    "        print(f'fetched {gnews_url}')\n",
    "    except Exception as e:\n",
    "        # probably some country TLD do not have a google news domain\n",
    "        pass\n"
   ]
  },
  {
   "cell_type": "code",
   "execution_count": 7,
   "metadata": {},
   "outputs": [],
   "source": [
    "assert len(titles)>0"
   ]
  },
  {
   "cell_type": "code",
   "execution_count": 8,
   "metadata": {},
   "outputs": [],
   "source": [
    "df_latest = pd.DataFrame({'datetime':now, 'headline': list(titles)})"
   ]
  },
  {
   "cell_type": "code",
   "execution_count": 9,
   "metadata": {},
   "outputs": [
    {
     "data": {
      "text/html": [
       "<div>\n",
       "<style scoped>\n",
       "    .dataframe tbody tr th:only-of-type {\n",
       "        vertical-align: middle;\n",
       "    }\n",
       "\n",
       "    .dataframe tbody tr th {\n",
       "        vertical-align: top;\n",
       "    }\n",
       "\n",
       "    .dataframe thead th {\n",
       "        text-align: right;\n",
       "    }\n",
       "</style>\n",
       "<table border=\"1\" class=\"dataframe\">\n",
       "  <thead>\n",
       "    <tr style=\"text-align: right;\">\n",
       "      <th></th>\n",
       "      <th>datetime</th>\n",
       "      <th>headline</th>\n",
       "    </tr>\n",
       "  </thead>\n",
       "  <tbody>\n",
       "    <tr>\n",
       "      <th>0</th>\n",
       "      <td>2020-03-28 00:08</td>\n",
       "      <td>Ya se conoce el primer trabajo de Meghan Markl...</td>\n",
       "    </tr>\n",
       "    <tr>\n",
       "      <th>1</th>\n",
       "      <td>2020-03-28 00:08</td>\n",
       "      <td>驻乌拉圭大使王刚会见乌新任牧农渔业部长乌里亚特 - 中华人民共和国外交部</td>\n",
       "    </tr>\n",
       "    <tr>\n",
       "      <th>2</th>\n",
       "      <td>2020-03-28 00:08</td>\n",
       "      <td>CEO NDRMF calls on PM to discuss Pakistan's va...</td>\n",
       "    </tr>\n",
       "    <tr>\n",
       "      <th>3</th>\n",
       "      <td>2020-03-28 00:08</td>\n",
       "      <td>هكذا أنقذ طبيب جنوب إفريقي العالم من مرض أهلك ...</td>\n",
       "    </tr>\n",
       "    <tr>\n",
       "      <th>4</th>\n",
       "      <td>2020-03-28 00:08</td>\n",
       "      <td>'On-the-job emergency training': Hospitals may...</td>\n",
       "    </tr>\n",
       "    <tr>\n",
       "      <th>5</th>\n",
       "      <td>2020-03-28 00:08</td>\n",
       "      <td>Desalojaron el geriátrico donde vivía una anci...</td>\n",
       "    </tr>\n",
       "    <tr>\n",
       "      <th>6</th>\n",
       "      <td>2020-03-28 00:08</td>\n",
       "      <td>PM Lee warns Singapore it's facing a 'very gra...</td>\n",
       "    </tr>\n",
       "    <tr>\n",
       "      <th>7</th>\n",
       "      <td>2020-03-28 00:08</td>\n",
       "      <td>¡Insólito! Bad Bunny se convierte en mujer en ...</td>\n",
       "    </tr>\n",
       "    <tr>\n",
       "      <th>8</th>\n",
       "      <td>2020-03-28 00:08</td>\n",
       "      <td>Coronavirus: la vitamina D reduce el riesgo de...</td>\n",
       "    </tr>\n",
       "    <tr>\n",
       "      <th>9</th>\n",
       "      <td>2020-03-28 00:08</td>\n",
       "      <td>Governo restringe entrada no país de todos os ...</td>\n",
       "    </tr>\n",
       "  </tbody>\n",
       "</table>\n",
       "</div>"
      ],
      "text/plain": [
       "           datetime                                           headline\n",
       "0  2020-03-28 00:08  Ya se conoce el primer trabajo de Meghan Markl...\n",
       "1  2020-03-28 00:08               驻乌拉圭大使王刚会见乌新任牧农渔业部长乌里亚特 - 中华人民共和国外交部\n",
       "2  2020-03-28 00:08  CEO NDRMF calls on PM to discuss Pakistan's va...\n",
       "3  2020-03-28 00:08  هكذا أنقذ طبيب جنوب إفريقي العالم من مرض أهلك ...\n",
       "4  2020-03-28 00:08  'On-the-job emergency training': Hospitals may...\n",
       "5  2020-03-28 00:08  Desalojaron el geriátrico donde vivía una anci...\n",
       "6  2020-03-28 00:08  PM Lee warns Singapore it's facing a 'very gra...\n",
       "7  2020-03-28 00:08  ¡Insólito! Bad Bunny se convierte en mujer en ...\n",
       "8  2020-03-28 00:08  Coronavirus: la vitamina D reduce el riesgo de...\n",
       "9  2020-03-28 00:08  Governo restringe entrada no país de todos os ..."
      ]
     },
     "execution_count": 9,
     "metadata": {},
     "output_type": "execute_result"
    }
   ],
   "source": [
    "df_latest.head(10)"
   ]
  },
  {
   "cell_type": "code",
   "execution_count": 10,
   "metadata": {},
   "outputs": [],
   "source": [
    "# merge with the old one\n",
    "all_df_headlines = all_df_headlines.append(df_latest, sort=True)\n"
   ]
  },
  {
   "cell_type": "code",
   "execution_count": 11,
   "metadata": {},
   "outputs": [],
   "source": [
    "all_df_headlines.drop_duplicates(['headline'], inplace=True)"
   ]
  },
  {
   "cell_type": "code",
   "execution_count": 12,
   "metadata": {},
   "outputs": [],
   "source": [
    "# save all headlines  to file\n",
    "all_df_headlines.to_csv(all_headlines_csv, index=False,  compression='gzip')"
   ]
  },
  {
   "cell_type": "code",
   "execution_count": 13,
   "metadata": {},
   "outputs": [],
   "source": [
    "def is_reference_corona(s):\n",
    "    return (\n",
    "        ('coronavirus' in s)\n",
    "        or ('covid-19' in s)\n",
    "        or ('corona' in s)\n",
    "        or ('ncov' in s)\n",
    "    )\n",
    "        \n",
    "    \n",
    "# is_virus is 1 if there is reference to coronavirus\n",
    "    \n",
    "all_df_headlines['is_virus']= (\n",
    "    all_df_headlines['headline']\n",
    "    .apply(lambda v: 1 \n",
    "           if is_reference_corona(v.lower()) else 0)\n",
    ")"
   ]
  },
  {
   "cell_type": "code",
   "execution_count": 14,
   "metadata": {},
   "outputs": [],
   "source": [
    "# cumu sum of number of references to virus\n",
    "all_df_headlines['total_virus'] = all_df_headlines['is_virus'].cumsum()"
   ]
  },
  {
   "cell_type": "code",
   "execution_count": 15,
   "metadata": {},
   "outputs": [
    {
     "data": {
      "text/html": [
       "<div>\n",
       "<style scoped>\n",
       "    .dataframe tbody tr th:only-of-type {\n",
       "        vertical-align: middle;\n",
       "    }\n",
       "\n",
       "    .dataframe tbody tr th {\n",
       "        vertical-align: top;\n",
       "    }\n",
       "\n",
       "    .dataframe thead th {\n",
       "        text-align: right;\n",
       "    }\n",
       "</style>\n",
       "<table border=\"1\" class=\"dataframe\">\n",
       "  <thead>\n",
       "    <tr style=\"text-align: right;\">\n",
       "      <th></th>\n",
       "      <th>headline</th>\n",
       "    </tr>\n",
       "  </thead>\n",
       "  <tbody>\n",
       "    <tr>\n",
       "      <th>958</th>\n",
       "      <td>Trump says he told Pence not to call governors...</td>\n",
       "    </tr>\n",
       "    <tr>\n",
       "      <th>988</th>\n",
       "      <td>Disneyland, Disney World staying closed 'until...</td>\n",
       "    </tr>\n",
       "    <tr>\n",
       "      <th>1001</th>\n",
       "      <td>Breed announces three new mobile coronavirus t...</td>\n",
       "    </tr>\n",
       "    <tr>\n",
       "      <th>1007</th>\n",
       "      <td>Así avanza el coronavirus en el mundo este 27 ...</td>\n",
       "    </tr>\n",
       "    <tr>\n",
       "      <th>1008</th>\n",
       "      <td>Coronavirus en la Argentina: con tres nuevas m...</td>\n",
       "    </tr>\n",
       "  </tbody>\n",
       "</table>\n",
       "</div>"
      ],
      "text/plain": [
       "                                               headline\n",
       "958   Trump says he told Pence not to call governors...\n",
       "988   Disneyland, Disney World staying closed 'until...\n",
       "1001  Breed announces three new mobile coronavirus t...\n",
       "1007  Así avanza el coronavirus en el mundo este 27 ...\n",
       "1008  Coronavirus en la Argentina: con tres nuevas m..."
      ]
     },
     "execution_count": 15,
     "metadata": {},
     "output_type": "execute_result"
    }
   ],
   "source": [
    "df_latest_samples = all_df_headlines[all_df_headlines['is_virus']==1].tail(5)\n",
    "df_latest_samples[['headline']]"
   ]
  },
  {
   "cell_type": "code",
   "execution_count": 16,
   "metadata": {},
   "outputs": [
    {
     "data": {
      "text/plain": [
       "{'schemaVersion': 1,\n",
       " 'label': 'Last update 2020-03-28 00:08',\n",
       " 'message': 'Total number of headlines: 212275'}"
      ]
     },
     "execution_count": 16,
     "metadata": {},
     "output_type": "execute_result"
    }
   ],
   "source": [
    "# output json stat \n",
    "import json\n",
    "data_stats_json = 'data/data_stats.json'\n",
    "data_stats = {'schemaVersion': 1, \n",
    "              'label': f'Last update {now}', \n",
    "              'message': f'Total number of headlines: {all_df_headlines.shape[0]}'}\n",
    "with open(data_stats_json, 'w') as fo:\n",
    "    fo.write(json.dumps(data_stats))\n",
    "data_stats"
   ]
  },
  {
   "cell_type": "code",
   "execution_count": 17,
   "metadata": {},
   "outputs": [],
   "source": [
    "# plot chart number of headline mentioning coronavirus\n",
    "import seaborn as sns\n",
    "import matplotlib.pyplot as plt\n",
    "from pandas.plotting import register_matplotlib_converters\n",
    "register_matplotlib_converters()\n",
    "\n",
    "png_file = 'images/google-news-headlines.png'\n",
    "# convert to pd.datetime\n",
    "all_df_headlines['datetime_idx'] = pd.to_datetime(all_df_headlines['datetime'], format=\"%Y-%m-%d %H:%M\")\n",
    "all_df_headlines.set_index('datetime_idx', inplace=True)\n"
   ]
  },
  {
   "cell_type": "code",
   "execution_count": 18,
   "metadata": {},
   "outputs": [
    {
     "data": {
      "text/html": [
       "<div>\n",
       "<style scoped>\n",
       "    .dataframe tbody tr th:only-of-type {\n",
       "        vertical-align: middle;\n",
       "    }\n",
       "\n",
       "    .dataframe tbody tr th {\n",
       "        vertical-align: top;\n",
       "    }\n",
       "\n",
       "    .dataframe thead th {\n",
       "        text-align: right;\n",
       "    }\n",
       "</style>\n",
       "<table border=\"1\" class=\"dataframe\">\n",
       "  <thead>\n",
       "    <tr style=\"text-align: right;\">\n",
       "      <th></th>\n",
       "      <th>datetime</th>\n",
       "      <th>headline</th>\n",
       "      <th>is_virus</th>\n",
       "      <th>total_virus</th>\n",
       "    </tr>\n",
       "    <tr>\n",
       "      <th>datetime_idx</th>\n",
       "      <th></th>\n",
       "      <th></th>\n",
       "      <th></th>\n",
       "      <th></th>\n",
       "    </tr>\n",
       "  </thead>\n",
       "  <tbody>\n",
       "    <tr>\n",
       "      <th>2020-02-27 19:51:00</th>\n",
       "      <td>2020-02-27 19:51</td>\n",
       "      <td>The 31 wildest lines from Donald Trump's self-...</td>\n",
       "      <td>1</td>\n",
       "      <td>1</td>\n",
       "    </tr>\n",
       "    <tr>\n",
       "      <th>2020-02-27 21:14:00</th>\n",
       "      <td>2020-02-27 21:14</td>\n",
       "      <td>Coronavirus: Outbreak at 'decisive point' as W...</td>\n",
       "      <td>1</td>\n",
       "      <td>2</td>\n",
       "    </tr>\n",
       "    <tr>\n",
       "      <th>2020-02-27 21:14:00</th>\n",
       "      <td>2020-02-27 21:14</td>\n",
       "      <td>Shooter at Milwaukee Molson Coors had a long-r...</td>\n",
       "      <td>0</td>\n",
       "      <td>2</td>\n",
       "    </tr>\n",
       "    <tr>\n",
       "      <th>2020-02-27 21:14:00</th>\n",
       "      <td>2020-02-27 21:14</td>\n",
       "      <td>Democratic Leaders Willing to Risk Party Damag...</td>\n",
       "      <td>0</td>\n",
       "      <td>2</td>\n",
       "    </tr>\n",
       "    <tr>\n",
       "      <th>2020-02-27 21:14:00</th>\n",
       "      <td>2020-02-27 21:14</td>\n",
       "      <td>Catherine Pugh, Former Baltimore Mayor, Senten...</td>\n",
       "      <td>0</td>\n",
       "      <td>2</td>\n",
       "    </tr>\n",
       "    <tr>\n",
       "      <th>...</th>\n",
       "      <td>...</td>\n",
       "      <td>...</td>\n",
       "      <td>...</td>\n",
       "      <td>...</td>\n",
       "    </tr>\n",
       "    <tr>\n",
       "      <th>2020-03-28 00:08:00</th>\n",
       "      <td>2020-03-28 00:08</td>\n",
       "      <td>Claudia López: \"Corferias podría tener 5.000 c...</td>\n",
       "      <td>0</td>\n",
       "      <td>51608</td>\n",
       "    </tr>\n",
       "    <tr>\n",
       "      <th>2020-03-28 00:08:00</th>\n",
       "      <td>2020-03-28 00:08</td>\n",
       "      <td>لطلاب المدارس .. استعلم عن الكود الخاص بالتعلم...</td>\n",
       "      <td>0</td>\n",
       "      <td>51608</td>\n",
       "    </tr>\n",
       "    <tr>\n",
       "      <th>2020-03-28 00:08:00</th>\n",
       "      <td>2020-03-28 00:08</td>\n",
       "      <td>Καιρός: Ισχυρές βροχές και καταιγίδες την Παρα...</td>\n",
       "      <td>0</td>\n",
       "      <td>51608</td>\n",
       "    </tr>\n",
       "    <tr>\n",
       "      <th>2020-03-28 00:08:00</th>\n",
       "      <td>2020-03-28 00:08</td>\n",
       "      <td>Macedonia Północna wstąpiła do NATO. Polskie M...</td>\n",
       "      <td>0</td>\n",
       "      <td>51608</td>\n",
       "    </tr>\n",
       "    <tr>\n",
       "      <th>2020-03-28 00:08:00</th>\n",
       "      <td>2020-03-28 00:08</td>\n",
       "      <td>Do Patriots, Bill Belichick Want Cam Newton? W...</td>\n",
       "      <td>0</td>\n",
       "      <td>51608</td>\n",
       "    </tr>\n",
       "  </tbody>\n",
       "</table>\n",
       "<p>212275 rows × 4 columns</p>\n",
       "</div>"
      ],
      "text/plain": [
       "                             datetime  \\\n",
       "datetime_idx                            \n",
       "2020-02-27 19:51:00  2020-02-27 19:51   \n",
       "2020-02-27 21:14:00  2020-02-27 21:14   \n",
       "2020-02-27 21:14:00  2020-02-27 21:14   \n",
       "2020-02-27 21:14:00  2020-02-27 21:14   \n",
       "2020-02-27 21:14:00  2020-02-27 21:14   \n",
       "...                               ...   \n",
       "2020-03-28 00:08:00  2020-03-28 00:08   \n",
       "2020-03-28 00:08:00  2020-03-28 00:08   \n",
       "2020-03-28 00:08:00  2020-03-28 00:08   \n",
       "2020-03-28 00:08:00  2020-03-28 00:08   \n",
       "2020-03-28 00:08:00  2020-03-28 00:08   \n",
       "\n",
       "                                                              headline  \\\n",
       "datetime_idx                                                             \n",
       "2020-02-27 19:51:00  The 31 wildest lines from Donald Trump's self-...   \n",
       "2020-02-27 21:14:00  Coronavirus: Outbreak at 'decisive point' as W...   \n",
       "2020-02-27 21:14:00  Shooter at Milwaukee Molson Coors had a long-r...   \n",
       "2020-02-27 21:14:00  Democratic Leaders Willing to Risk Party Damag...   \n",
       "2020-02-27 21:14:00  Catherine Pugh, Former Baltimore Mayor, Senten...   \n",
       "...                                                                ...   \n",
       "2020-03-28 00:08:00  Claudia López: \"Corferias podría tener 5.000 c...   \n",
       "2020-03-28 00:08:00  لطلاب المدارس .. استعلم عن الكود الخاص بالتعلم...   \n",
       "2020-03-28 00:08:00  Καιρός: Ισχυρές βροχές και καταιγίδες την Παρα...   \n",
       "2020-03-28 00:08:00  Macedonia Północna wstąpiła do NATO. Polskie M...   \n",
       "2020-03-28 00:08:00  Do Patriots, Bill Belichick Want Cam Newton? W...   \n",
       "\n",
       "                     is_virus  total_virus  \n",
       "datetime_idx                                \n",
       "2020-02-27 19:51:00         1            1  \n",
       "2020-02-27 21:14:00         1            2  \n",
       "2020-02-27 21:14:00         0            2  \n",
       "2020-02-27 21:14:00         0            2  \n",
       "2020-02-27 21:14:00         0            2  \n",
       "...                       ...          ...  \n",
       "2020-03-28 00:08:00         0        51608  \n",
       "2020-03-28 00:08:00         0        51608  \n",
       "2020-03-28 00:08:00         0        51608  \n",
       "2020-03-28 00:08:00         0        51608  \n",
       "2020-03-28 00:08:00         0        51608  \n",
       "\n",
       "[212275 rows x 4 columns]"
      ]
     },
     "execution_count": 18,
     "metadata": {},
     "output_type": "execute_result"
    }
   ],
   "source": [
    "all_df_headlines"
   ]
  },
  {
   "cell_type": "code",
   "execution_count": 19,
   "metadata": {},
   "outputs": [
    {
     "data": {
      "image/png": "[encoded data removed]",
      "text/plain": [
       "<Figure size 1008x576 with 1 Axes>"
      ]
     },
     "metadata": {},
     "output_type": "display_data"
    }
   ],
   "source": [
    "sns.set(rc={'figure.figsize':(14,8)})\n",
    "\n",
    "fig, axs = plt.subplots(nrows=1)\n",
    "\n",
    "sns.lineplot(x=all_df_headlines.index, y = 'total_virus', data=all_df_headlines, ax= axs, estimator=None, color='blue')\n",
    "\n",
    "axs.set_xlabel('')\n",
    "axs.set_ylabel('')\n",
    "axs.tick_params(axis='x', labelrotation=30)"
   ]
  },
  {
   "cell_type": "code",
   "execution_count": 20,
   "metadata": {},
   "outputs": [],
   "source": [
    "fig.savefig(png_file)\n"
   ]
  },
  {
   "cell_type": "code",
   "execution_count": null,
   "metadata": {},
   "outputs": [],
   "source": []
  }
 ],
 "metadata": {
  "kernelspec": {
   "display_name": "Python 3",
   "language": "python",
   "name": "python3"
  },
  "language_info": {
   "codemirror_mode": {
    "name": "ipython",
    "version": 3
   },
   "file_extension": ".py",
   "mimetype": "text/x-python",
   "name": "python",
   "nbconvert_exporter": "python",
   "pygments_lexer": "ipython3",
   "version": "3.7.6"
  }
 },
 "nbformat": 4,
 "nbformat_minor": 4
}
